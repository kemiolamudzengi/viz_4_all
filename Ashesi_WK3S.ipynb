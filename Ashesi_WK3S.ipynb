{
 "cells": [
  {
   "cell_type": "markdown",
   "id": "20be2993-7272-49d0-8eb8-3d5e6430e48b",
   "metadata": {},
   "source": [
    "# Visualization: Day 3 Interaction\n",
    "## Learning Outcomes"
   ]
  },
  {
   "cell_type": "markdown",
   "id": "c6d137b3-873b-4784-a10e-f6c29d6ad0ef",
   "metadata": {},
   "source": [
    "By the end of this session, students will be able to:\n",
    "\n",
    "1. **Explore trends dynamically** by zooming and panning across data.\n",
    "2. **Highlight specific categories** to focus on targeted insights.\n",
    "3. **Apply selection-based filtering** to reveal relevant details in linked visualizations.\n",
    "4. **Create linked visualizations** using brush-controlled selection to connect and filter data across multiple charts.\n",
    "\n",
    "### **Types of Interaction in This Tutorial**\n",
    "\n",
    "1. **Zoom and Pan**: Adjust the view on both x and y axes, providing detailed access to specific data segments.\n",
    "2. **Highlighting Categories**: Emphasize particular data categories within a chart, making it easy to focus on specific subsets.\n",
    "3. **Selection-Based Filtering**: Use selections to filter data in linked visualizations, enabling dynamic exploration across charts.\n",
    "4. **Brush-Controlled Linking**: Create a uni-directional link between two charts, where a selection in one chart filters data in another.\n",
    "\n",
    "\n",
    "Now that you understand the basic grammar you can explore other examples on the web\n",
    " https://altair-viz.github.io/gallery/index.html\n",
    " \n",
    "Here is the api https://altair-viz.github.io/user_guide/api.html\n",
    " \n",
    "All of the customization we will do today can be found in the documentation\n",
    " \n",
    " "
   ]
  },
  {
   "cell_type": "markdown",
   "id": "93c17ddb-1ff2-4494-85f2-d59625e783b7",
   "metadata": {},
   "source": [
    "## Breaches Dataset and Environment Setup"
   ]
  },
  {
   "cell_type": "code",
   "execution_count": null,
   "id": "0912bc56-5845-44c1-bdf6-304214ecd72a",
   "metadata": {},
   "outputs": [],
   "source": [
    "!pip install altair\n",
    "import pandas as pd\n",
    "import altair as alt"
   ]
  },
  {
   "cell_type": "markdown",
   "id": "6cd6b25d-04ba-48b1-8002-a2afb97b12de",
   "metadata": {},
   "source": [
    "## Breaches Dataset\n",
    "The original dataset is available here\n",
    "https://docs.google.com/spreadsheets/d/1i0oIJJMRG-7t1GT-mr4smaTTU7988yXVz8nPlwaJ8Xk/edit?gid=2#gid=2\n",
    "\n",
    "There are a series of visualizations that have been created off of this dataset\n",
    "https://informationisbeautiful.net/visualizations/worlds-biggest-data-breaches-hacks/\n"
   ]
  },
  {
   "cell_type": "code",
   "execution_count": null,
   "id": "3fb83ff5-7ef4-43cb-b33f-35d3eba79239",
   "metadata": {},
   "outputs": [],
   "source": [
    "# Read in the data \n",
    "url_path = \"https://raw.githubusercontent.com/kemiolamudzengi/viz_4_all/main/cleaned_breaches.csv\"\n",
    "breaches = pd.read_csv(url_path, parse_dates=True)\n",
    "# Remove rows where 'sector' is in the specified list\n",
    "breaches_filtered = breaches[~breaches['sector'].isin(['academic', 'legal', 'media', 'ngo', 'misc'])]\n"
   ]
  },
  {
   "cell_type": "markdown",
   "id": "8698b902-b8ff-4db1-a5e2-14f3139271b5",
   "metadata": {},
   "source": [
    "### Normalized Bar Chart\n",
    " - number of breaches on the x channel\n",
    " - method on the y channel\n",
    " - data sensistivity on the color channel\n",
    "\n",
    "    Make it normalized "
   ]
  },
  {
   "cell_type": "code",
   "execution_count": null,
   "id": "ef787895-a341-484f-9c37-b1b464653832",
   "metadata": {},
   "outputs": [],
   "source": [
    "# Normalized Bar Chart\n",
    "normalized_bar_chart = ...\n",
    "normalized_bar_chart"
   ]
  },
  {
   "cell_type": "markdown",
   "id": "4d9c8a10-1c6a-4a8d-afd3-91c1b5a61ce3",
   "metadata": {},
   "source": [
    "## Interaction"
   ]
  },
  {
   "cell_type": "markdown",
   "id": "8e5de3bf-a293-468b-9844-cd31723f32b1",
   "metadata": {},
   "source": [
    "### **Explanation of Selections in Altair**\n",
    "\n",
    "Altair provides **selection types** to make charts interactive by allowing users to filter, highlight, or zoom into data. \n",
    "#### **1. Selection Types**\n",
    "\n",
    "- **`selection_point`**:\n",
    "   - Used for **selecting individual points** in a chart.\n",
    "   - Ideal for cases where you want to select a single data point or category and have other charts or elements respond to this selection.\n",
    "   - Example: Selecting a single bar in a bar chart to filter data in a linked chart.\n",
    "\n",
    "- **`selection_interval`**:\n",
    "   - Used for **selecting a range** of data, typically along an axis.\n",
    "   - Allows users to select multiple points within a specified range, often by dragging over an area.\n",
    "   - Ideal for **zooming and panning** when combined with `bind='scales'`.\n",
    "\n",
    "\n",
    "#### **2. `add_params` Method**\n",
    "\n",
    "The `.add_params()` method in Altair is used to **add a selection or parameter to a chart**. This enables interactivity in the visualization, allowing selections like `selection_point` or `selection_interval` to control elements in the chart or even in linked charts. By adding parameters, you can define how users interact with the data, making it possible to filter or highlight specific values.\n",
    "\n",
    "\n",
    "#### **3. Binding in Selections**\n",
    "\n",
    "**Binding** links a selection to the **scales** of the chart, allowing the selected range to control the zoom and pan. By setting `bind='scales'` in an interval selection, Altair allows users to adjust the viewing window on the chart dynamically. This enables users to:\n",
    "\n",
    "- **Zoom in**: Select a narrower range to view finer details.\n",
    "- **Pan**: Scroll horizontally or vertically to move across different sections of the data.\n"
   ]
  },
  {
   "cell_type": "markdown",
   "id": "a82295ba-2aab-4776-9cfa-e907944656ec",
   "metadata": {},
   "source": [
    "## Task 1: Zoom and Pan on Area Chart\n",
    "### Basic area chart setup for breaches over time by method\n",
    " - year on the x channel\n",
    " - number of breaches on the y channel \n",
    " - method on color channel "
   ]
  },
  {
   "cell_type": "code",
   "execution_count": null,
   "id": "c3b36a14-2c54-4d1b-9a5b-9a767b6e8c30",
   "metadata": {},
   "outputs": [],
   "source": [
    "area_zoom_pan = ...\n",
    "\n",
    "area_zoom_pan\n"
   ]
  },
  {
   "cell_type": "markdown",
   "id": "7d2b2491-0d25-4a02-90fc-175c73a01dd0",
   "metadata": {},
   "source": [
    "### Adding Zoom and Pan Interaction\n",
    "**What We Will Add**:\n",
    "- Enable **zooming and panning** using Altair’s `selection_interval` with scale binding.\n",
    "\n",
    "**How to Add It**:\n",
    "1. Define a `selection_interval` to allow users to select an interval on the chart.\n",
    "2. Use `bind='scales'` to link the selection to the chart’s axes, enabling zoom and pan functionality.\n"
   ]
  },
  {
   "cell_type": "code",
   "execution_count": null,
   "id": "e402c0e4-6c13-430f-8151-306b3e8b489f",
   "metadata": {},
   "outputs": [],
   "source": [
    "# Enable zoom and pan interaction\n",
    "area_zoom_pan = ...\n",
    "\n",
    "area_zoom_pan\n",
    "\n",
    "#two fingers to zoom\n",
    "#three fingers to pan"
   ]
  },
  {
   "cell_type": "code",
   "execution_count": null,
   "id": "2b22e61e-4d90-4441-9723-0d58cbb0241b",
   "metadata": {},
   "outputs": [],
   "source": [
    "# add_params(alt.selection_interval(bind='scales')): \n",
    "# Adds an interval selection with bind='scales', allowing the user to zoom and pan on both the x and y axes.\n"
   ]
  },
  {
   "cell_type": "markdown",
   "id": "be419ba0-6120-4927-af3d-69433bb3f319",
   "metadata": {},
   "source": [
    "## **Task 2: Highlighting Categories in a Line Chart**"
   ]
  },
  {
   "cell_type": "code",
   "execution_count": null,
   "id": "7a6fafc5-ca34-4dfb-9393-663bd72509a2",
   "metadata": {},
   "outputs": [],
   "source": [
    "# Base line chart for breach trends by sensitivity level with customized legend labels\n",
    "# Map data_sensitivity levels to descriptive labels\n",
    "breaches_labeled = breaches_filtered.assign(\n",
    "    sensitivity_label=breaches_filtered['data_sensitivity'].map({\n",
    "        1: \"1:Email address/Online info.\",\n",
    "        2: \"2:SSN/Personal details\",\n",
    "        3: \"3:Credit card info.\",\n",
    "        4: \"4:Health/other personal records\",\n",
    "        5: \"5:Full details\"\n",
    "    })\n",
    ")\n",
    "\n",
    "# Base line chart with customized legend labels\n",
    "line_highlight = alt.Chart(breaches_labeled).mark_line(\n",
    "    strokeWidth=3,\n",
    "    point=alt.OverlayMarkDef(size=60)\n",
    ").encode(\n",
    "    x=alt.X('year(date):T').title('Year'),\n",
    "    y=alt.Y('count():Q').title('Number of Breaches'),\n",
    "    color=alt.Color('sensitivity_label:N').title('Data Sensitivity Level').scale(scheme='reds')\n",
    ").properties(\n",
    "    title=\"Breach Trends Over Time by Sensitivity Level\",\n",
    "    width=500,\n",
    "    height=300\n",
    ")\n",
    "\n",
    "line_highlight"
   ]
  },
  {
   "cell_type": "markdown",
   "id": "5f19232e-007d-4166-9309-41a900430914",
   "metadata": {},
   "source": [
    "#### **Step 2: Adding the Highlighting Interaction**\n",
    "**What We Will Add**:\n",
    "- Highlight lines in the chart by `data_sensitivity` selection.\n",
    "  \n",
    "**How to Add It**:\n",
    "1. Create a `selection_point` on `data_sensitivity` to allow highlighting.\n",
    "2. Bind the selection to the legend, so users can select a category directly from the legend.\n",
    "3. Adjust the `opacity` using a condition: fully opaque for selected lines, and partially transparent for others.\n"
   ]
  },
  {
   "cell_type": "code",
   "execution_count": null,
   "id": "60974b8c-f10b-45cd-9cd6-2dd7a9fdb348",
   "metadata": {},
   "outputs": [],
   "source": [
    "# Define a point selection on sensitivity_label\n",
    "sensitivity_highlight = alt.selection_point(fields=['sensitivity_label'], bind='legend')\n",
    "\n",
    "# Add highlighting interaction\n",
    "line_highlight = ...\n",
    "line_highlight"
   ]
  },
  {
   "cell_type": "markdown",
   "id": "d73ca8b1-2c8f-44a9-a1fb-b417965ca755",
   "metadata": {},
   "source": [
    "## **Task 3: Selection-Based Filtering with Linked Charts**"
   ]
  },
  {
   "cell_type": "code",
   "execution_count": null,
   "id": "d847b9cf-c27c-43ea-bb39-7ef28399d34d",
   "metadata": {},
   "outputs": [],
   "source": [
    "# Base Bar Chart\n",
    "bar_chart_filter = alt.Chart(breaches_filtered).mark_bar().encode(\n",
    "    x=alt.X('count()').title('Number of Breaches').axis(tickCount=4),\n",
    "    y=alt.Y('method:N').title('Cause of Breach'),\n",
    "    color=alt.Color('method:N').title('Cause of Breach')\n",
    ").properties(\n",
    "    title=\"Number of Breaches by Method\",\n",
    "    width=500,\n",
    "    height=80\n",
    ")\n",
    "\n",
    "# Base Scatter Plot\n",
    "scatter_filtered = alt.Chart(breaches_filtered).mark_circle(opacity=0.7).encode(\n",
    "    x=alt.X('records_lost:Q').title('Records Lost').axis(tickCount=4),\n",
    "    y=alt.Y('sector:N').title('Sector'),\n",
    "    color=alt.Color('method:N').title('Cause of Breach'),\n",
    "    size=alt.Size('records_lost:Q').title('Records Lost').scale(domain=[1e6, 1e9], range=[10, 1000]),\n",
    "    tooltip=['organisation', 'date', 'records_lost', 'method', 'data_sensitivity']\n",
    ").properties(\n",
    "    title=\"Characteristics of Breaches by Sector and Records Lost\",\n",
    "    width=500,\n",
    "    height=250\n",
    ")\n",
    "\n",
    "bar_chart_filter & scatter_filtered"
   ]
  },
  {
   "cell_type": "markdown",
   "id": "f911b1f9-a302-4a42-824c-432782954222",
   "metadata": {},
   "source": [
    "\n",
    "### **Adding Selection-Based Filtering**"
   ]
  },
  {
   "cell_type": "markdown",
   "id": "64113d65-b24d-4329-9690-2dd07fa98423",
   "metadata": {},
   "source": [
    "**What We Will Add**:\n",
    "- Create a linked interaction between a bar chart and a scatter plot, using selection-based filtering.\n",
    "\n",
    "**How to Add It**:\n",
    "1. Define a `selection_point` on `method` for selecting a breach method.\n",
    "2. Highlight the selected bar in the bar chart.\n",
    "3. Filter the scatter plot to show only the data associated with the selected breach method.\n"
   ]
  },
  {
   "cell_type": "code",
   "execution_count": null,
   "id": "45fbd74f-6f4d-487b-bcc5-20bae9d0ee5b",
   "metadata": {},
   "outputs": [],
   "source": [
    "# Define a point selection for method\n",
    "method_selection = alt.selection_point(fields=['method'], empty=\"all\")\n",
    "\n",
    "# Updated Bar Chart with Selection\n",
    "bar_chart_filter = ...\n",
    "# Scatter Plot with Filtering\n",
    "scatter_filtered = ...\n",
    "\n",
    "(bar_chart_filter & scatter_filtered)"
   ]
  },
  {
   "cell_type": "markdown",
   "id": "ceee7a39-d087-4e03-92be-4d8fc4dcc812",
   "metadata": {},
   "source": [
    "## **Task 4: Brush-Controlled Linking with Year Circle and Pie Chart**\n",
    "In this task, we’ll use a brush-controlled selection on a circle chart to filter data displayed in a linked pie chart. This setup will allow you to select a range of years on the circle chart, dynamically updating the pie chart to show records_lost by sector within the selected time range."
   ]
  },
  {
   "cell_type": "code",
   "execution_count": null,
   "id": "2a17410f-17b6-4124-87de-d639897f7325",
   "metadata": {},
   "outputs": [],
   "source": [
    "# Base Tick Chart for selecting years\n",
    "year_chart = alt.Chart(breaches_filtered).mark_circle(size=20).encode(\n",
    "  #  x=alt.X('year(date):O').title('Year'),\n",
    "     x=alt.X('year(date):T').title('Year 20XX').axis(format='%y'),  # Formats year to two digits\n",
    "   \n",
    "    size = alt.Size('sum(records_lost):Q').scale(domain=[1e4, 3e9], range=[10, 500]),\n",
    "  ).properties(\n",
    "    title=\"Select Year Range to Filter Pie Chart\",\n",
    "    width=450,\n",
    "    height=30\n",
    ")\n",
    "\n",
    "# Base Pie Chart for records lost by sector\n",
    "pie_chart = alt.Chart(breaches_filtered).mark_arc().encode(\n",
    "    theta=alt.Theta('count():Q').title(\"Records Lost\"),\n",
    "    color=alt.Color('sector:N').title(\"Sector\").scale(scheme='set3'),\n",
    "    tooltip=['sector', 'sum(records_lost):Q','count():Q']\n",
    ").properties(\n",
    "    title=\"Count of Incidences by Sector (Filtered by Year Selection)\",\n",
    "    width=250,\n",
    "    height=250\n",
    ")\n",
    "\n",
    "# Display charts side-by-side\n",
    "year_chart & pie_chart"
   ]
  },
  {
   "cell_type": "markdown",
   "id": "49aec9f5-b39e-4249-b25d-0986c7ad5438",
   "metadata": {},
   "source": [
    "### Adding Brush-Controlled Linking\n",
    "\n",
    "**What We Will Add**:\n",
    "- Use a brush selection on a tick chart to filter data displayed in a pie chart.\n",
    "\n",
    "**How to Add It**:\n",
    "1. Define a `selection_interval` on the x-axis to create a brush for selecting a year range.\n",
    "2. Highlight the selected years in the tick chart.\n",
    "3. Filter the pie chart to display only records lost within the selected year range.\n"
   ]
  },
  {
   "cell_type": "code",
   "execution_count": null,
   "id": "ff4b41b9-bfb5-4021-b042-6b79c3e6f530",
   "metadata": {},
   "outputs": [],
   "source": [
    "# Define a brush selection for the x-axis (year)\n",
    "brush = alt.selection_interval(encodings=['x'])\n",
    "\n",
    "# Tick Chart with Brush Selection\n",
    "year_chart =...\n",
    "\n",
    "# Pie Chart Filtered by Brush Selection\n",
    "pie_chart = ...\n",
    "\n",
    "# Display the interactive linked charts\n",
    "year_chart & pie_chart\n"
   ]
  },
  {
   "cell_type": "markdown",
   "id": "26447c34-7b82-4222-a5be-3cec664dbd48",
   "metadata": {},
   "source": [
    "## **Combining the Dashboard**\n",
    "Finally, we’ll combine all interactive charts into a single dashboard view for ease of exploration.\n"
   ]
  },
  {
   "cell_type": "code",
   "execution_count": null,
   "id": "783bc121-47b8-4451-8444-026d02da6615",
   "metadata": {},
   "outputs": [],
   "source": [
    "# Combine all interactive charts into a dashboard\n",
    "(area_zoom_pan & line_highlight) | (bar_chart_filter & scatter_filtered) | (year_chart & pie_chart)\n"
   ]
  },
  {
   "cell_type": "code",
   "execution_count": null,
   "id": "7148b9f8-1b88-4535-a9df-5f27e1b905ea",
   "metadata": {},
   "outputs": [],
   "source": []
  }
 ],
 "metadata": {
  "kernelspec": {
   "display_name": "Python 3 (ipykernel)",
   "language": "python",
   "name": "python3"
  },
  "language_info": {
   "codemirror_mode": {
    "name": "ipython",
    "version": 3
   },
   "file_extension": ".py",
   "mimetype": "text/x-python",
   "name": "python",
   "nbconvert_exporter": "python",
   "pygments_lexer": "ipython3",
   "version": "3.10.9"
  }
 },
 "nbformat": 4,
 "nbformat_minor": 5
}
