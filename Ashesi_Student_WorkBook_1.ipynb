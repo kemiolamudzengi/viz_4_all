{
 "cells": [
  {
   "cell_type": "markdown",
   "id": "e8d9e8ef-d9b0-46a5-9b1e-8e358d81659e",
   "metadata": {},
   "source": [
    "# Visualization Workshop: Day 1 Introducing Vega-Altair"
   ]
  },
  {
   "cell_type": "markdown",
   "id": "40b7ba81-2fce-496b-bd31-a2ecbdcb7039",
   "metadata": {},
   "source": [
    "## Learning Outcomes\n",
    "\n",
    "Here’s a more concise version of the learning goals:\n",
    "\n",
    "1. **Chart Selection**: You will be able to choose and create suitable chart types (e.g., line, bar, scatter) to explore different data relationships.\n",
    "\n",
    "2. **Encoding and Aggregation**: You will be able to apply encodings and aggregations to represent key data features effectively.\n",
    "\n",
    "3. **Pattern Identification**: You will be able to recognize and highlight patterns and distributions in data using Altair visualizations.\n"
   ]
  },
  {
   "cell_type": "markdown",
   "id": "8246f0aa-7889-47a3-a06a-badd67fe08bd",
   "metadata": {
    "tags": []
   },
   "source": [
    "## Part 1: Setting Up Altair"
   ]
  },
  {
   "cell_type": "code",
   "execution_count": null,
   "id": "d9d62ef1-0b74-464c-a644-8dc064084913",
   "metadata": {},
   "outputs": [],
   "source": [
    "# Install Altair if not already installed\n",
    "\n",
    "!pip install altair vega_datasets"
   ]
  },
  {
   "cell_type": "code",
   "execution_count": null,
   "id": "ff2795c7-9f2c-49b4-88e5-e2c954eabce0",
   "metadata": {},
   "outputs": [],
   "source": [
    "# import the libraries that we will be using\n",
    "import altair as alt\n",
    "import pandas as pd\n",
    "\n"
   ]
  },
  {
   "cell_type": "code",
   "execution_count": null,
   "id": "e818c12f-2aed-4539-936d-33c035e5f588",
   "metadata": {},
   "outputs": [],
   "source": [
    "from vega_datasets import data\n",
    "\n",
    "# short Altair program to make sure you have the environment configured\n",
    "\n",
    "alt.Chart(data.cars()).mark_tick().encode(\n",
    "    x='Horsepower',\n",
    "    y='Cylinders:O'\n",
    ")"
   ]
  },
  {
   "cell_type": "markdown",
   "id": "da61cb7d-a5e3-4952-9be7-e6b21ce0e692",
   "metadata": {},
   "source": [
    "**CONGRATULATIONS** you've created your first Altair Chart !!!"
   ]
  },
  {
   "cell_type": "markdown",
   "id": "e935470f-1c58-4e74-bfe3-490822758688",
   "metadata": {
    "tags": []
   },
   "source": [
    "## Part 2: Scattering Cars\n",
    "\n",
    "This task introduced students to Altair’s foundational concepts, including encodings and marks, and progressively added complexity by using multiple channels"
   ]
  },
  {
   "cell_type": "markdown",
   "id": "6b9597f8-a93b-4924-879d-f2352ce97461",
   "metadata": {},
   "source": [
    "### Cars Dataset"
   ]
  },
  {
   "cell_type": "code",
   "execution_count": null,
   "id": "9a111b72-5ae5-42ac-a006-18c15414648e",
   "metadata": {},
   "outputs": [],
   "source": [
    "# use the Vega Altair Dataset cars\n",
    "\n",
    "cars = data.cars()\n"
   ]
  },
  {
   "cell_type": "markdown",
   "id": "7aa3d044-a280-477c-b4c9-177b4237bcb7",
   "metadata": {},
   "source": [
    "#### Understanding the dataset\n",
    "\n",
    "How big is the dataset?\n",
    "\n",
    "What are the attributes in the dataset?\n",
    "\n",
    "What is the data type of each attribute?"
   ]
  },
  {
   "cell_type": "code",
   "execution_count": null,
   "id": "8eb940a9-f9fc-4b66-b113-ba4b80962928",
   "metadata": {},
   "outputs": [],
   "source": [
    "# Preview each dataset\n",
    "print(cars.head())\n",
    "print(cars.shape)\n",
    "print(cars.info())\n"
   ]
  },
  {
   "cell_type": "markdown",
   "id": "4baf590a-55d2-46e8-8511-deabb7fc658c",
   "metadata": {},
   "source": [
    "### First Altair Chart\n",
    " - Attach the dataset to the chart object\n",
    " - Select the `circle` mark\n",
    " - Specify what attribute will be encoded on the `x` channel (i.e., `Horsepower`)\n",
    "    "
   ]
  },
  {
   "cell_type": "markdown",
   "id": "e3f89dc7-e334-49c9-b1e8-cc53062ce4d2",
   "metadata": {},
   "source": [
    "#### Chart Object"
   ]
  },
  {
   "cell_type": "markdown",
   "id": "055e5e4d-e394-4826-a8af-8782b19c4b35",
   "metadata": {},
   "source": [
    "We start by defining the chart type as `alt.Chart(cars)`\n",
    "and specifying mark_circle() to create a bar chart."
   ]
  },
  {
   "cell_type": "code",
   "execution_count": null,
   "id": "76f220f0-4d62-4fc1-95de-7955c414ba5a",
   "metadata": {},
   "outputs": [],
   "source": []
  },
  {
   "cell_type": "markdown",
   "id": "a20a35aa-05b8-499d-b8fc-29f7694f272e",
   "metadata": {},
   "source": [
    "#### `x` Channel\n",
    "Let's encode `Horsepower` on the `x` channel"
   ]
  },
  {
   "cell_type": "code",
   "execution_count": null,
   "id": "127b1252-1ccd-4893-99b0-9921322e1b1c",
   "metadata": {},
   "outputs": [],
   "source": [
    "...\n"
   ]
  },
  {
   "cell_type": "markdown",
   "id": "d971126d-21ee-4126-a8d5-5633781c6a1e",
   "metadata": {},
   "source": [
    "#### Learn by Doing (LBD) Task\n",
    "In the cells below, modify the code above \n",
    "and try out different marks (e.g., 'tick', 'line', 'point', 'bar', 'rect')\n",
    "\n"
   ]
  },
  {
   "cell_type": "code",
   "execution_count": null,
   "id": "a54b01f3-e419-4235-82dd-5155a0cd1ad5",
   "metadata": {},
   "outputs": [],
   "source": [
    "..."
   ]
  },
  {
   "cell_type": "code",
   "execution_count": null,
   "id": "4b2f5d6c-5f44-4f52-a2b1-f55c88db3d42",
   "metadata": {},
   "outputs": [],
   "source": []
  },
  {
   "cell_type": "code",
   "execution_count": null,
   "id": "a04ecc69-4667-443b-bd8f-ae455c5583e8",
   "metadata": {},
   "outputs": [],
   "source": []
  },
  {
   "cell_type": "markdown",
   "id": "4dbe8573-49c5-4c48-b594-e309404d5355",
   "metadata": {},
   "source": [
    "#### `y` Channel\n",
    "Let's encode data on the `y` channel. \n",
    "We will encode the `Miles_per_Gallon` attribute. \n"
   ]
  },
  {
   "cell_type": "code",
   "execution_count": null,
   "id": "f96c853f-2ec7-4075-9881-136b179c62a5",
   "metadata": {},
   "outputs": [],
   "source": [
    "..."
   ]
  },
  {
   "cell_type": "markdown",
   "id": "1703b256-5b4f-45d5-b3c5-8333388e3818",
   "metadata": {},
   "source": [
    "#### Reflect\n",
    "\n",
    "What insights can be inferred from the scatter plot?\n"
   ]
  },
  {
   "cell_type": "markdown",
   "id": "b76e9bdb-fea9-4f64-968e-6839090b04ca",
   "metadata": {},
   "source": [
    "#### LBD Task\n",
    "In the cells below, change which attributes are encoded on the x and y channel\n",
    "What questions can you answer with the scatter plots created?\n",
    "What insights can be observed?"
   ]
  },
  {
   "cell_type": "code",
   "execution_count": null,
   "id": "6ada18f0-e7ac-4706-a7e3-91455cf1f608",
   "metadata": {},
   "outputs": [],
   "source": [
    "..."
   ]
  },
  {
   "cell_type": "code",
   "execution_count": null,
   "id": "53cb4048-f012-4e6c-b850-6e80bc6ea885",
   "metadata": {},
   "outputs": [],
   "source": []
  },
  {
   "cell_type": "code",
   "execution_count": null,
   "id": "dec5b9cb-181a-4288-a50c-77020e893e97",
   "metadata": {},
   "outputs": [],
   "source": []
  },
  {
   "cell_type": "markdown",
   "id": "ef0558d1-1354-42b8-acbe-849f41d5ffdd",
   "metadata": {},
   "source": [
    "#### `color` Channel. \n",
    "Encode the geographic region where the car was manufactured on the color channel. \n"
   ]
  },
  {
   "cell_type": "code",
   "execution_count": null,
   "id": "30601f54-ed42-4d4e-96fe-aebe6830f7d3",
   "metadata": {},
   "outputs": [],
   "source": [
    "..."
   ]
  },
  {
   "cell_type": "markdown",
   "id": "30a0559c-f672-4e58-af2e-7ec30698eed7",
   "metadata": {},
   "source": [
    "#### Pause\n",
    "\n",
    "Color is NOT just aesthetic, there is a science around which colors are used. \n",
    "More on this tomorrow ooooo"
   ]
  },
  {
   "cell_type": "markdown",
   "id": "dc418e46-1c48-44a6-a36c-4110c2035778",
   "metadata": {},
   "source": [
    "#### `size` Channel\n",
    "Encode `Horsepower` on the `size` channel\n"
   ]
  },
  {
   "cell_type": "code",
   "execution_count": null,
   "id": "5bd1131b-9994-418f-a0e6-08dc9df605ff",
   "metadata": {},
   "outputs": [],
   "source": [
    "..."
   ]
  },
  {
   "cell_type": "markdown",
   "id": "104dbc0c-bd32-401a-b892-3bc60a36d9ec",
   "metadata": {
    "tags": []
   },
   "source": [
    "#### LBD Task\n",
    "Try encoding the remaining **unused** attributes on the `size` channel.\n",
    "\n",
    "Which attributes do NOT make sense to use for the `size` channel?\n"
   ]
  },
  {
   "cell_type": "code",
   "execution_count": null,
   "id": "0dc363bc-94de-49fd-89f5-66483c737934",
   "metadata": {},
   "outputs": [],
   "source": [
    "..."
   ]
  },
  {
   "cell_type": "code",
   "execution_count": null,
   "id": "9ec0f008-7bcb-4f03-bf59-1820f5f70ac3",
   "metadata": {},
   "outputs": [],
   "source": []
  },
  {
   "cell_type": "code",
   "execution_count": null,
   "id": "5c04af78-4b74-4f2e-a348-9b1af85c5e98",
   "metadata": {},
   "outputs": [],
   "source": []
  },
  {
   "cell_type": "markdown",
   "id": "20e64d2a-b4df-475e-82a6-7248b8c3f07f",
   "metadata": {
    "tags": []
   },
   "source": [
    "## Part 3: Stocks Through Time"
   ]
  },
  {
   "cell_type": "markdown",
   "id": "3041a955-df47-401d-b381-06c5f2aa13a4",
   "metadata": {},
   "source": [
    "#### Stocks Dataset\n"
   ]
  },
  {
   "cell_type": "code",
   "execution_count": null,
   "id": "c5e51ee6-ca01-475f-84e3-e23a326fc31d",
   "metadata": {},
   "outputs": [],
   "source": [
    "stocks = data.stocks()\n",
    "stocks.head()"
   ]
  },
  {
   "cell_type": "markdown",
   "id": "d1c80d66-2e80-4ff1-98bc-49eb22cc050c",
   "metadata": {},
   "source": [
    "How large is the dataset?\n",
    "How many companies are featured in the dataset"
   ]
  },
  {
   "cell_type": "code",
   "execution_count": null,
   "id": "377600b3-d816-47bf-aaf6-d5bf482eff87",
   "metadata": {},
   "outputs": [],
   "source": [
    "print(stocks.info())\n",
    "print(stocks['symbol'].unique())"
   ]
  },
  {
   "cell_type": "markdown",
   "id": "964e4bf8-6918-4ef9-9a89-7c310b3c7a87",
   "metadata": {},
   "source": [
    "#### Line Chart\n",
    "Let's filter the data to only include Apple. \n"
   ]
  },
  {
   "cell_type": "code",
   "execution_count": null,
   "id": "81b26b34-7ba7-432f-a43c-d92b02e9c932",
   "metadata": {},
   "outputs": [],
   "source": [
    "apple_stock = stocks[stocks['symbol'] == 'AAPL']"
   ]
  },
  {
   "cell_type": "markdown",
   "id": "d945c23b-2c54-4c5e-afde-23d8276a4041",
   "metadata": {},
   "source": [
    "Using `mark_line` let's create a line chart\n",
    "where we encode\n",
    " - date on the `x` channel\n",
    " - price on the `y` channel"
   ]
  },
  {
   "cell_type": "code",
   "execution_count": null,
   "id": "bbe379b1-3b9e-4f78-a1d1-72084ea43a8b",
   "metadata": {},
   "outputs": [],
   "source": [
    "..."
   ]
  },
  {
   "cell_type": "markdown",
   "id": "1687b6e0-a234-4147-b251-b15ad3d08d54",
   "metadata": {},
   "source": [
    "#### Multi-Line Chart\n",
    "- visualize the stock price for all companies"
   ]
  },
  {
   "cell_type": "code",
   "execution_count": null,
   "id": "5d2dd726-ef99-40ad-9ef9-1c5b4aae9646",
   "metadata": {},
   "outputs": [],
   "source": [
    "..."
   ]
  },
  {
   "cell_type": "markdown",
   "id": "1fbdd08e-1bd3-4d03-9694-1a10beb81a07",
   "metadata": {},
   "source": [
    "##### Filter out Google"
   ]
  },
  {
   "cell_type": "markdown",
   "id": "d479bdc9-d73b-49b3-9431-4776ecc9e643",
   "metadata": {},
   "source": [
    "Interesting we don't have data for google before 2004. \n",
    "Let's remove Google and vis the rest. \n"
   ]
  },
  {
   "cell_type": "code",
   "execution_count": null,
   "id": "9e45bcdc-349d-4230-a118-31047648bf80",
   "metadata": {},
   "outputs": [],
   "source": [
    "stock_wo_goog = stocks[stocks['symbol'].isin(['AAPL', 'IBM', 'MSFT', 'AMZN'])]"
   ]
  },
  {
   "cell_type": "markdown",
   "id": "2c46b31a-db8c-4958-834b-fdcefeb2219f",
   "metadata": {},
   "source": [
    "#####\n",
    "Use the filtered dataset to create a multi-line chart"
   ]
  },
  {
   "cell_type": "code",
   "execution_count": null,
   "id": "765474df-8f05-4e6d-8f47-63d710ee7e44",
   "metadata": {},
   "outputs": [],
   "source": [
    "..."
   ]
  },
  {
   "cell_type": "markdown",
   "id": "ceb7b7f9-f923-4bbd-994e-f9e52db78e67",
   "metadata": {},
   "source": [
    "#### Area Chart \n",
    "Let's create an Area chart for Apple Stock\n",
    "Encode `date` on the `x` channel and `price` on the `y` channel\n"
   ]
  },
  {
   "cell_type": "code",
   "execution_count": null,
   "id": "756ce2e1-0b04-4dc5-80dc-503802efb5e9",
   "metadata": {},
   "outputs": [],
   "source": [
    "..."
   ]
  },
  {
   "cell_type": "markdown",
   "id": "a71ea793-2886-4e37-84e5-f29f345e5d5e",
   "metadata": {},
   "source": [
    "Let's create an area chart for all the stocks (exclude Google).\n",
    "Encode `date` on the `x` channel and `price` on the `y` channel and `symbol` on `color`"
   ]
  },
  {
   "cell_type": "code",
   "execution_count": null,
   "id": "3608ce77-7fcd-4d9c-835c-293a7ddb9504",
   "metadata": {},
   "outputs": [],
   "source": [
    "..."
   ]
  },
  {
   "cell_type": "code",
   "execution_count": null,
   "id": "c29b2ceb-9097-4193-8891-041de993a2d3",
   "metadata": {},
   "outputs": [],
   "source": [
    "..."
   ]
  },
  {
   "cell_type": "markdown",
   "id": "c96d42c8-a31b-46fb-aab0-925feeaa19fa",
   "metadata": {},
   "source": [
    "#### Normalized Area Chart\n",
    " - Stacking: By setting stack=\"normalize\", Altair adjusts each segment of the area to represent percentages rather than absolute counts. \n"
   ]
  },
  {
   "cell_type": "code",
   "execution_count": null,
   "id": "a253828b-cedb-434a-a5d8-55cd2bb300dc",
   "metadata": {},
   "outputs": [],
   "source": []
  },
  {
   "cell_type": "code",
   "execution_count": null,
   "id": "758cd166-4d0f-4155-9104-19ee9d989e63",
   "metadata": {},
   "outputs": [],
   "source": []
  },
  {
   "cell_type": "code",
   "execution_count": null,
   "id": "2545b353-0b53-4b04-9ae3-62fd62bf6197",
   "metadata": {},
   "outputs": [],
   "source": []
  },
  {
   "cell_type": "markdown",
   "id": "706493e5-5015-43c5-9dcf-e77726d49c3c",
   "metadata": {
    "tags": []
   },
   "source": [
    "## Part 4: Moving Bars\n",
    "Using bar charts to make sense of the movie dataset. \n"
   ]
  },
  {
   "cell_type": "code",
   "execution_count": null,
   "id": "34a01dcd-60a7-4db9-b60b-2407080d0dd7",
   "metadata": {},
   "outputs": [],
   "source": [
    "movies  = data.movies()"
   ]
  },
  {
   "cell_type": "markdown",
   "id": "fcb92af9-74cb-4c0e-b6b7-d00ad8cd92fd",
   "metadata": {},
   "source": [
    "#### Understanding the dataset\n",
    "\n",
    "How big is the dataset?\n",
    "\n",
    "What are the attributes in the dataset?\n",
    "\n",
    "What is the data type of each attribute?"
   ]
  },
  {
   "cell_type": "code",
   "execution_count": null,
   "id": "72a938e2-bd15-4e1a-b5ac-44d0c35179a3",
   "metadata": {},
   "outputs": [],
   "source": [
    "..."
   ]
  },
  {
   "cell_type": "markdown",
   "id": "f4edf869-68a4-4644-83ac-2084a880d9fc",
   "metadata": {},
   "source": [
    "#### First Bar Chart"
   ]
  },
  {
   "cell_type": "markdown",
   "id": "bd25a785-e75e-46f9-ace8-410aba7fb263",
   "metadata": {},
   "source": [
    " - Attach the movies dataset to the Chart object\n",
    " - Specify `mark_bar` as the chart's mark\n",
    " - Encode the movie's `Major_Genre` on the `x` channel\n",
    " - Encode the movie's `IMDB_Rating` on the `y` channel"
   ]
  },
  {
   "cell_type": "code",
   "execution_count": null,
   "id": "085fb93d-33b0-4aab-a5cc-98e265e7bd99",
   "metadata": {},
   "outputs": [],
   "source": [
    "..."
   ]
  },
  {
   "cell_type": "markdown",
   "id": "3b473f9f-f2ec-4b2d-a1cc-6b2f86fb1fe8",
   "metadata": {},
   "source": [
    "#### SLOW DOWN\n",
    " - What is this. \n",
    " - Why is the rating so high?\n",
    " - What does the values on the Y axes actually mean. \n",
    "\n",
    "We will add a **simple** interaction to help us understand what this bar chart is actually representating. \n",
    "\n",
    "Add the `tooltip` channel\n",
    "and attach it to an array of attributes\n",
    "    \n",
    "    tooltip = ['Major_Genre', 'Release_Date', 'IMDB_Rating']"
   ]
  },
  {
   "cell_type": "code",
   "execution_count": null,
   "id": "8748c8fd-a13b-4842-9b8e-657ab501840d",
   "metadata": {},
   "outputs": [],
   "source": [
    "..."
   ]
  },
  {
   "cell_type": "markdown",
   "id": "91b93146-801b-4495-a7a8-a60951c8732d",
   "metadata": {},
   "source": [
    "#### Reflect\n",
    "\n",
    "Now that you have the tooltip, what does the Y axes **really** represent?\n"
   ]
  },
  {
   "cell_type": "markdown",
   "id": "55f672b3-18b4-4e0b-92f8-1662fe3ec2df",
   "metadata": {},
   "source": [
    "### Aggregations\n",
    "Are a shortcut that allow us to summarize or transform the data. These aggregation can be used to count, sum, average, or perform other calculaions on data fields within the chart. \n",
    "\n",
    "Do you know how to do this in Pandas (possibly)\n",
    "Vega's Altair has a shorthand way to support your vizzing process\n"
   ]
  },
  {
   "cell_type": "markdown",
   "id": "406a47b5-4249-48a2-a226-bddaa007f80b",
   "metadata": {},
   "source": [
    "#### Common Aggregations"
   ]
  },
  {
   "cell_type": "markdown",
   "id": "ef6c9d2d-5bfc-4f98-ba2e-5252e99daec4",
   "metadata": {},
   "source": [
    "##### count\n",
    "Counts the number of data points in a specified field.\n",
    "Example: Counting occurrences in a categorical field, such as the number of movies by genre."
   ]
  },
  {
   "cell_type": "code",
   "execution_count": null,
   "id": "5fe5dde3-fddd-4fee-a308-4f8858105e77",
   "metadata": {},
   "outputs": [],
   "source": [
    "alt.Chart(movies).mark_bar().encode(\n",
    "    x='count()',\n",
    "    y='Major_Genre:N'\n",
    ")"
   ]
  },
  {
   "cell_type": "markdown",
   "id": "394c8018-3af5-4736-a71b-936b2b79696c",
   "metadata": {},
   "source": [
    "##### average\n",
    "Computes the average of a quantitative field\n",
    "Averaging IMDB_Rating for movies by genre."
   ]
  },
  {
   "cell_type": "code",
   "execution_count": null,
   "id": "3396ec19-21ab-43c3-b680-f30744f3ef69",
   "metadata": {},
   "outputs": [],
   "source": [
    "alt.Chart(movies).mark_bar().encode(\n",
    "    x='Major_Genre:N',\n",
    "    y='average(IMDB_Rating):Q'\n",
    ")"
   ]
  },
  {
   "cell_type": "markdown",
   "id": "775bffa2-5b81-4fba-ae17-44aed53e5b60",
   "metadata": {},
   "source": [
    "#### Aggregations\n",
    " - sum: calculates the total sum of a quantitative field\n",
    " - median: finds the median value of a quantitative field \n",
    " - min: Identifies the minimum value within a quantitative field.\n",
    " - max: Identifies the maximum value within a quantitative field.\n",
    "\n",
    "These aggregation functions allow Altair users to quickly summarize data within charts, making it easier to interpret trends, distributions, and patterns within datasets.\n",
    "\n"
   ]
  },
  {
   "cell_type": "markdown",
   "id": "4acaa10a-be54-495f-aab5-19dd77d97f61",
   "metadata": {},
   "source": [
    "#### LBD: Using Aggregations\n",
    "\n",
    "Create three bar charts using these aggregations:\n",
    "\n",
    " - sum on one attribute\n",
    " - max on another attribute\n",
    " - median on a third attribute"
   ]
  },
  {
   "cell_type": "code",
   "execution_count": null,
   "id": "4013cd3a-fa1e-430f-81fe-98f1fcc09a6d",
   "metadata": {},
   "outputs": [],
   "source": [
    "..."
   ]
  },
  {
   "cell_type": "code",
   "execution_count": null,
   "id": "5c7db5a3-fcec-4faf-9c28-2be2d70a65a9",
   "metadata": {},
   "outputs": [],
   "source": []
  },
  {
   "cell_type": "code",
   "execution_count": null,
   "id": "392e8b0b-9a2b-4aa8-8231-c0aeea4d8fe0",
   "metadata": {},
   "outputs": [],
   "source": []
  },
  {
   "cell_type": "code",
   "execution_count": null,
   "id": "cce63245-f8d7-43f0-8f68-1f0781445871",
   "metadata": {},
   "outputs": [],
   "source": []
  },
  {
   "cell_type": "markdown",
   "id": "3bf0388a-e31b-4f6f-a6ad-e4d9178214ec",
   "metadata": {},
   "source": [
    "### Bar Chart Variations "
   ]
  },
  {
   "cell_type": "markdown",
   "id": "a94c84cd-cd5e-4150-ab31-66b63f1f123f",
   "metadata": {},
   "source": [
    "#### Stacked Bar Chart\n",
    "Let's create a stacked bar chart showing the count of movies in each genre, with each bar color-coded by MPAA_Rating. This will help visualize the distribution of ratings within each genre.\n",
    "\n",
    " - encode the number of records (i.e., `count()`) on the `x` channel\n",
    " - encode `Major_Genre` on the `y` channel\n",
    " - encode `MPAA_Rating` on the `color` channel\n",
    " "
   ]
  },
  {
   "cell_type": "code",
   "execution_count": null,
   "id": "2720ae60-6f40-47ca-a0e6-54495d668a76",
   "metadata": {},
   "outputs": [],
   "source": [
    "..."
   ]
  },
  {
   "cell_type": "markdown",
   "id": "1ca1314c-b450-4718-af8b-205bdaeb760b",
   "metadata": {},
   "source": [
    "What do you learn from this visualization?\n"
   ]
  },
  {
   "cell_type": "markdown",
   "id": "8c7a9c37-ef75-4c45-a195-a88014490f19",
   "metadata": {},
   "source": [
    "#### Normalized Bar Chart\n",
    "Let's create a normalized stacked bar chart showing the percentage distribution of MPAA_Rating within each Major_Genre. \n",
    "\n",
    "This will allow you to see the relative rating distribution across different genres.\n",
    "\n",
    "\n",
    "WHATTTTTT"
   ]
  },
  {
   "cell_type": "markdown",
   "id": "08f17e27-c4c5-4d86-920c-a49444e5a015",
   "metadata": {},
   "source": [
    " - Aggregation: We use sum(count) to calculate the total count of movies within each combination of Major_Genre and MPAA_Rating. The :Q indicates this is a quantitative measure.\n",
    "\n",
    " - Stacking: By setting stack=\"normalize\", Altair adjusts each bar to represent percentages rather than absolute counts. This means that the total height of each bar becomes 100%, with segments proportionally representing each MPAA_Rating.\n"
   ]
  },
  {
   "cell_type": "code",
   "execution_count": null,
   "id": "8f674e62-fd9d-4857-bb56-c5e6380dfb22",
   "metadata": {},
   "outputs": [],
   "source": [
    "...\n"
   ]
  },
  {
   "cell_type": "code",
   "execution_count": null,
   "id": "b62be540-1de1-456d-b12b-c0baf42b4a74",
   "metadata": {},
   "outputs": [],
   "source": []
  },
  {
   "cell_type": "code",
   "execution_count": null,
   "id": "67ad2161-b2a4-498f-aae1-d6606ef5a33e",
   "metadata": {},
   "outputs": [],
   "source": []
  },
  {
   "cell_type": "code",
   "execution_count": null,
   "id": "61e03f51-5daa-4615-af5c-7675dbb40f6a",
   "metadata": {},
   "outputs": [],
   "source": []
  },
  {
   "cell_type": "markdown",
   "id": "3558bfd0-3f92-48e2-98dc-f93a1d19e840",
   "metadata": {},
   "source": [
    "WOW\n",
    "If you are still sitting, i'm so very very very proud of you oooo. \n",
    "\n",
    "We have barely scratched the surface. \n",
    "But now that you have the fundamental aspects of how to create a visualization tomorrow we can spend time focusing on how to make viz interactive and creating dashboards. \n",
    "\n",
    "\n",
    "Breathe. \n",
    "\n",
    "You are still standing or sitting :)\n",
    "\n",
    "Dr. K"
   ]
  }
 ],
 "metadata": {
  "kernelspec": {
   "display_name": "Python 3 (ipykernel)",
   "language": "python",
   "name": "python3"
  },
  "language_info": {
   "codemirror_mode": {
    "name": "ipython",
    "version": 3
   },
   "file_extension": ".py",
   "mimetype": "text/x-python",
   "name": "python",
   "nbconvert_exporter": "python",
   "pygments_lexer": "ipython3",
   "version": "3.10.9"
  }
 },
 "nbformat": 4,
 "nbformat_minor": 5
}
