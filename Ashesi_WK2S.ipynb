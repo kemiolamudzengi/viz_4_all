{
 "cells": [
  {
   "cell_type": "markdown",
   "id": "20be2993-7272-49d0-8eb8-3d5e6430e48b",
   "metadata": {},
   "source": [
    "# Visualization: Day 2\n",
    "## Learning Outcomes"
   ]
  },
  {
   "cell_type": "markdown",
   "id": "c6d137b3-873b-4784-a10e-f6c29d6ad0ef",
   "metadata": {},
   "source": [
    " - Analyze data trends and patterns: Identify key causes, trends, and sector impacts of data breaches.\n",
    " - Apply effective visualization techniques: Use bar charts, line charts, heatmaps, and other visuals to represent data insights.\n",
    " - Build interactive dashboards: Combine visualizations into an interactive dashboard for clear, structured data presentation.\n",
    " \n",
    " There are many visualizations\n",
    " \n",
    " Now that you understand the basic grammar you can explore other examples on the web\n",
    " https://altair-viz.github.io/gallery/index.html\n",
    " \n",
    " Here is the api https://altair-viz.github.io/user_guide/api.html\n",
    " \n",
    " All of the customization we will do today can be found in the documentation\n",
    " \n",
    " "
   ]
  },
  {
   "cell_type": "markdown",
   "id": "93c17ddb-1ff2-4494-85f2-d59625e783b7",
   "metadata": {},
   "source": [
    "## Breaches Dataset and Environment Setup"
   ]
  },
  {
   "cell_type": "code",
   "execution_count": null,
   "id": "0912bc56-5845-44c1-bdf6-304214ecd72a",
   "metadata": {},
   "outputs": [],
   "source": [
    "!pip install altair\n",
    "import pandas as pd\n",
    "import altair as alt"
   ]
  },
  {
   "cell_type": "markdown",
   "id": "6cd6b25d-04ba-48b1-8002-a2afb97b12de",
   "metadata": {},
   "source": [
    "### Breaches Dataset\n",
    "The original dataset is available here\n",
    "https://docs.google.com/spreadsheets/d/1i0oIJJMRG-7t1GT-mr4smaTTU7988yXVz8nPlwaJ8Xk/edit?gid=2#gid=2\n",
    "\n",
    "There are a series of visualizations that have been created off of this dataset\n",
    "https://informationisbeautiful.net/visualizations/worlds-biggest-data-breaches-hacks/\n",
    "\n",
    "\n",
    "Some of the data wrangling I did **last night** includes \n",
    "- formatted the date column\n",
    "- standardized the records_lost column\n",
    "- collapsed some of the methods and sector to focus on only one instead of a list (e.g. changed government, miliary to just government), changed (web, health) to just health \n",
    "\n"
   ]
  },
  {
   "cell_type": "code",
   "execution_count": null,
   "id": "3fb83ff5-7ef4-43cb-b33f-35d3eba79239",
   "metadata": {},
   "outputs": [],
   "source": [
    "#Read in the data \n",
    "\n",
    "url_path = \"https://raw.githubusercontent.com/kemiolamudzengi/viz_4_all/main/cleaned_breaches.csv\"\n",
    "breaches = pd.read_csv(url_path, parse_dates=True)\n",
    "\n",
    "print(\"********************** The size of the dataset **********************\")\n",
    "print(breaches.shape)\n",
    "print(\"********************** The data types of the attributes **********************\")\n",
    "print(breaches.info())\n",
    "print(\"********************** The first three records in the dataset **********************\")\n",
    "print(breaches.head(3))\n",
    "\n"
   ]
  },
  {
   "cell_type": "markdown",
   "id": "f75b2bfa-5c50-4700-9605-0e0e77d64149",
   "metadata": {},
   "source": [
    "## Part 1: Recap of Day 1 "
   ]
  },
  {
   "cell_type": "markdown",
   "id": "bf637fdd-15dc-4a7b-b5b9-68c8ae4c820e",
   "metadata": {},
   "source": [
    "### LBD Task: Scatter Plot of Breaches"
   ]
  },
  {
   "cell_type": "markdown",
   "id": "9efad8f9-80b3-42b4-95ff-3235daddb813",
   "metadata": {},
   "source": [
    "Using the breaches dataset,  create a scatter plot with the following encodings:\n",
    " - **x** and **size**: `records_lost`\n",
    " - **y**: `sector`\n",
    " - **color**: `data_sensitivity`\n",
    " - **tooltip**: Show `organisation`, `date`, `records_lost`, `method`, and `story`."
   ]
  },
  {
   "cell_type": "code",
   "execution_count": null,
   "id": "46d84afd-4c53-49e8-b0be-c9ce54ffcfdb",
   "metadata": {},
   "outputs": [],
   "source": [
    "..."
   ]
  },
  {
   "cell_type": "markdown",
   "id": "4e809ff3-fbb6-4bf2-bb48-44bc937a4896",
   "metadata": {},
   "source": [
    "#### Lil' Data Wrangling\n",
    "Notice how there are a few sectors that don't have that many records.\n",
    "Let's exclude records that fall under "
   ]
  },
  {
   "cell_type": "code",
   "execution_count": null,
   "id": "6feaea3c-bbb2-45aa-98ef-fd900426f67e",
   "metadata": {},
   "outputs": [],
   "source": [
    "# Remove rows where 'sector' is in the specified list\n",
    "breaches_filtered = breaches[~breaches['sector'].isin(['academic', 'legal', 'media', 'ngo', 'misc'])]\n"
   ]
  },
  {
   "cell_type": "markdown",
   "id": "82692521-1373-4b41-9c2d-5cb4b8a99e71",
   "metadata": {},
   "source": [
    "**For the rest of the session today we will be using the breaches_filtered dataset**\n"
   ]
  },
  {
   "cell_type": "markdown",
   "id": "e17fb6a2-65eb-4d47-8350-716173a30672",
   "metadata": {},
   "source": [
    "### Simple Scatter Plot\n",
    "Now let's recreate the viz from the previous step using the breaches_filtered dataset\n",
    "\n",
    "Using the breaches_filtered dataset, create a scatter plot with the following encodings:\n",
    " - **x** and **size**: `records_lost`\n",
    " - **y**: `sector`\n",
    " - **color**: `data_sensitivity`\n",
    " - **tooltip**: Show `organisation`, `date`, `records_lost`, `method`, and `story`."
   ]
  },
  {
   "cell_type": "code",
   "execution_count": null,
   "id": "ce7d5478-0031-4093-b8c4-08ffbc2b6d67",
   "metadata": {},
   "outputs": [],
   "source": [
    "..."
   ]
  },
  {
   "cell_type": "markdown",
   "id": "9e754580-d5c8-4027-901a-0e710f86df51",
   "metadata": {},
   "source": [
    "## Part 2: Customizing Visualizations"
   ]
  },
  {
   "cell_type": "markdown",
   "id": "ea35a3f5-1112-4094-a8f8-d34560d3e9f1",
   "metadata": {
    "tags": []
   },
   "source": [
    "### Chart Labels, Title, and Size\n",
    "**Pay attention how I switch from attribute to method format.**\n",
    "notice how x = 'records_lost'\n",
    "becomes x = alt.X('records_lost)\n",
    "\n"
   ]
  },
  {
   "cell_type": "markdown",
   "id": "bd00fc82-c1a0-492e-af1f-ee14939d693c",
   "metadata": {},
   "source": [
    "#### Equivalent Code Different Syntax\n"
   ]
  },
  {
   "cell_type": "code",
   "execution_count": null,
   "id": "ddb61359-a4d4-4299-b786-f685c2b6e053",
   "metadata": {},
   "outputs": [],
   "source": [
    "alt.Chart(breaches_filtered).mark_circle().encode(\n",
    "    x=alt.X('records_lost:Q'),\n",
    "    y=alt.Y('sector:N'),\n",
    "    size=alt.Size('records_lost'),\n",
    "    color=alt.Color('data_sensitivity:N'),\n",
    "    tooltip=alt.Tooltip(['organisation', 'date', 'records_lost', 'method', 'story'])\n",
    ")\n"
   ]
  },
  {
   "cell_type": "markdown",
   "id": "cc59ef2b-9b8f-4624-b176-d7a523059eed",
   "metadata": {},
   "source": [
    "### Instructions:\n",
    "   - **Add Axis Titles**: Change the x-axis title to `\"Records Lost\"` and the y-axis title to `\"Sector\"`.\n",
    "     - This is done using `alt.X().title()` for the x-axis and `alt.Y().title()` for the y-axis.\n",
    "   - **Add a Chart Title**: Give the chart an overall title, `\"Data Breaches by Sector and Sensitivity\"`.\n",
    "     - Use `.properties(title=\"Your Title\")` to add a title to the entire chart.\n",
    "   - **Resize the Chart**: Adjust the width to `450` and height to `250` using `.properties(width=450, height=250)`."
   ]
  },
  {
   "cell_type": "code",
   "execution_count": null,
   "id": "4f84f786-7639-49c0-a038-f7c5907901ce",
   "metadata": {},
   "outputs": [],
   "source": [
    "..."
   ]
  },
  {
   "cell_type": "markdown",
   "id": "57dc5096-ccf0-4b0f-a00e-506cf2004df5",
   "metadata": {},
   "source": [
    "### **Step 2: Customize Point Size and Opacity**\n",
    "\n",
    "1. **Objective**: Make the plot more informative by adjusting the size of the points based on `records_lost` and setting their opacity.\n",
    "2. **Instructions**:\n",
    "   - **Set Point Size**: Use `size=alt.Size('records_lost:Q')` to encode the size of the points based on `records_lost`, so larger values appear bigger.\n",
    "     - Use `.scale(domain=[1e6, 1e9], range=[10, 1000])` to control the scale of the point sizes from 1 million to 1 billion.\n",
    "   - **Set Opacity**: Add `.mark_circle(opacity=0.6)` to make points slightly transparent.\n"
   ]
  },
  {
   "cell_type": "code",
   "execution_count": null,
   "id": "f2e73a37-8f9b-4ff8-a18f-c5f343a6f0dc",
   "metadata": {},
   "outputs": [],
   "source": [
    "..."
   ]
  },
  {
   "cell_type": "markdown",
   "id": "3dbc8ba3-5b7f-40db-a9a3-254f667b4aae",
   "metadata": {},
   "source": [
    "### Step 3: Apply a Color Scheme\n",
    "\n",
    "1. **Objective**: Improve the chart's visual clarity by changing the color scheme for `data_sensitivity`.\n",
    "2. **Instructions**:\n",
    "   - **Set Color Scheme**: Use `.scale(scheme='purplered')` to change the color scheme of `data_sensitivity` to `purplered` for better contrast.\n",
    "   \n",
    "   There are so many color schemes https://vega.github.io/vega/docs/schemes/ \n"
   ]
  },
  {
   "cell_type": "code",
   "execution_count": null,
   "id": "6c33a7a2-be88-45cf-b603-53e6ef14ec35",
   "metadata": {},
   "outputs": [],
   "source": [
    "..."
   ]
  },
  {
   "cell_type": "markdown",
   "id": "1f126294-0eee-49a2-b6aa-aefcaa8880b4",
   "metadata": {},
   "source": [
    "### Step 4: Customize Grid Lines, Scale Formatting, and Title Styling\n",
    "\n",
    "1. **Objective**: Fine-tune the grid lines, format the x-axis scale, and style the chart title.\n",
    "2. **Instructions**:\n",
    "   - **Grid Lines**: Enable grid lines on the x-axis, showing only 4 major grid lines with `.axis(grid=True, tickCount=4)`.\n",
    "   - **Remove Y-Axis Grid and Ticks**: For a cleaner look, remove grid lines and ticks on the y-axis with `.axis(grid=False, ticks=False)`.\n",
    "   - **Title Font Color and Size**: Change the title font color to `darkblue` and increase the font size to `16` using `alt.TitleParams`.\n"
   ]
  },
  {
   "cell_type": "code",
   "execution_count": null,
   "id": "b96caac6-947a-4c56-9ef0-94a7e54e4300",
   "metadata": {},
   "outputs": [],
   "source": [
    "..."
   ]
  },
  {
   "cell_type": "markdown",
   "id": "b0ab355b-8654-4b93-b0a2-0b1b2785497d",
   "metadata": {},
   "source": [
    "WOW.\n",
    "COMPARE WHAT YOU STARTED WITH AND NOW WE NOW ARE.\n",
    "\n",
    "\n",
    "There are different customizations you can make on a chart to make it adhere to good design principles.\n",
    "\n",
    "We have barely scratched the surface.\n",
    "Notice how there are links to the Altair's documentation.\n",
    "Read it and apply it.\n",
    "\n",
    "**The sky is just the ceiling not the limit**"
   ]
  },
  {
   "cell_type": "markdown",
   "id": "57c976be-24b3-4aaa-a6ce-098f9873e46d",
   "metadata": {},
   "source": [
    "## Part 3: Theoretical Underpinnings"
   ]
  },
  {
   "cell_type": "markdown",
   "id": "2a8a571a-e612-43a5-bc00-f3d9e9bb34d1",
   "metadata": {},
   "source": [
    "_See slides the dets. (ha ha, i sound young and hip, using dets. instead of details)_"
   ]
  },
  {
   "cell_type": "markdown",
   "id": "adc9f658-6b5b-4bf1-8f55-d6363244d91f",
   "metadata": {},
   "source": [
    "## Part 4: Exploratory Data Analysis\n"
   ]
  },
  {
   "cell_type": "markdown",
   "id": "8194e817-ab08-4444-a769-4821fccbb4c0",
   "metadata": {},
   "source": [
    "There are different ways we can explore our data, we can start with a fixed set of questions or we can just focus on visualizing each attribute to see what we **stumble** across. \n",
    "\n",
    "We will take a more targeted approach. \n",
    "\n",
    "Here are the four questions we will seek to answer \n",
    " 1. What are the Most Common Causes of Data Breaches?\n",
    " 2. How Has the Number of Data Breaches Changed Over Time?\n",
    " 3. Which Sectors Experience the Most Significant Data Losses?\n",
    " 4. How Are Data Sensitivity Levels Distributed Across Sectors?"
   ]
  },
  {
   "cell_type": "markdown",
   "id": "6ad9ff28-7cac-484e-bbc5-ece789bdefde",
   "metadata": {},
   "source": [
    "### **1. What are the Most Common Causes of Data Breaches?**\n",
    "\n",
    "- **Visualization**: Stacked Bar Chart and Normalized Bar Chart\n",
    "- **Purpose**: Identify and compare the frequency of different breach methods, grouped by `data_sensitivity`, to understand which breach causes are most prevalent.\n",
    "\n",
    "#### **Instructions**:\n",
    "1. **Stacked Bar Chart**: \n",
    "   - **X-axis**: Use `count()` for the number of breaches.\n",
    "   - **Y-axis**: Use `method`.\n",
    "   - **Color**: Differentiate by `data_sensitivity` level.\n",
    "   - **Title**: “Most Common Causes of Data Breaches by Sensitivity Level”\n",
    "2. **Normalized Bar Chart**: \n",
    "   - **Update**: Convert the stacked bar chart to a normalized bar chart to observe the relative proportions of each cause.\n"
   ]
  },
  {
   "cell_type": "code",
   "execution_count": null,
   "id": "ef787895-a341-484f-9c37-b1b464653832",
   "metadata": {},
   "outputs": [],
   "source": [
    "# Stacked Bar Chart\n",
    "stacked_bar_chart = ...\n",
    "\n",
    "\n",
    "# Normalized Bar Chart\n",
    "\n",
    "\n",
    "normalized_bar_chart = ...\n",
    "\n"
   ]
  },
  {
   "cell_type": "markdown",
   "id": "a5aa2365-68cd-45b0-84eb-4a13b080da9e",
   "metadata": {},
   "source": [
    "WAIT WHERE IS MY CHART\n",
    "ha ha gotcha. \n",
    "It is stored as an object in the variable `stacked_bar_chart` to viz\n",
    "just type the name of the variable in the next cell\n",
    "\n"
   ]
  },
  {
   "cell_type": "code",
   "execution_count": null,
   "id": "c605823f-98b5-4021-a823-9d13bddf45a7",
   "metadata": {},
   "outputs": [],
   "source": [
    "stacked_bar_chart\n"
   ]
  },
  {
   "cell_type": "code",
   "execution_count": null,
   "id": "4d02413e-578e-45f1-bb63-a39a78a3a773",
   "metadata": {},
   "outputs": [],
   "source": [
    "normalized_bar_chart"
   ]
  },
  {
   "cell_type": "markdown",
   "id": "b63bdacc-40ad-48f7-8a19-4dafae43acd3",
   "metadata": {},
   "source": [
    "### **2. How Has the Number of Data Breaches Changed Over Time?**\n",
    "\n",
    "- **Visualization**: Line Chart\n",
    "- **Purpose**: Show the trend in breach frequency over time, grouped by `data_sensitivity` to observe how breach occurrences vary over the years.\n",
    "\n",
    "#### **Instructions**:\n",
    "1. **Line Chart**:\n",
    "   - **X-axis**: Encode `year(date)`.\n",
    "   - **Y-axis**: Count the number of breaches.\n",
    "   - **Color**: Use `data_sensitivity` to distinguish different sensitivity levels.\n",
    "   - **Title**: “Data Breaches Over Time by Sensitivity Level”\n"
   ]
  },
  {
   "cell_type": "code",
   "execution_count": null,
   "id": "c97dcb6e-8f9c-4a93-a4ad-50e1b49ffd3b",
   "metadata": {},
   "outputs": [],
   "source": [
    "# Line Chart for breach trends over time\n",
    "line_chart = ...\n",
    "\n",
    "line_chart"
   ]
  },
  {
   "cell_type": "markdown",
   "id": "78fe2379-5e09-4df2-ba1c-d84793efc28a",
   "metadata": {},
   "source": [
    "\n",
    "### **3. Which Sectors Experience the Most Significant Data Losses?**\n",
    "\n",
    "- **Visualization**: Pie Chart\n",
    "- **Purpose**: Show the proportion of records lost by `sector`, grouped by `method`, for a clear comparison of data loss magnitude across sectors and breach methods.\n",
    "\n",
    "#### **Instructions**:\n",
    "1. **Pie Chart**:\n",
    "   - **Theta**: Sum of `records_lost`.\n",
    "   - **Color**: Encode `sector` to differentiate each slice.\n",
    "   - **Legend**: Use a legend for `method`.\n",
    "   - **Title**: “Proportion of Data Loss by Sector and Breach Method”\n"
   ]
  },
  {
   "cell_type": "code",
   "execution_count": null,
   "id": "9b588681-6288-4302-94f0-76c1f3d1c070",
   "metadata": {},
   "outputs": [],
   "source": [
    "# Pie Chart for data losses by sector\n",
    "pie_chart = ...\n",
    "\n",
    "pie_chart"
   ]
  },
  {
   "cell_type": "markdown",
   "id": "32430413-bfda-4e3f-80c0-544906bf4ad9",
   "metadata": {},
   "source": [
    "### **4. How Are Data Sensitivity Levels Distributed Across Sectors?**\n",
    "\n",
    "- **Visualization**: Heatmap\n",
    "- **Purpose**: Use a heatmap to display the distribution of `data_sensitivity` levels across different `sector`s.\n",
    "\n",
    "#### **Instructions**:\n",
    "1. **Heatmap**:\n",
    "   - **X-axis**: Encode `data_sensitivity`.\n",
    "   - **Y-axis**: Encode `sector`.\n",
    "   - **Color**: Use color intensity to show the count of breaches.\n",
    "   - **Title**: “Distribution of Data Sensitivity Levels Across Sectors”"
   ]
  },
  {
   "cell_type": "code",
   "execution_count": null,
   "id": "93ac0871-ecd3-4429-b536-c485638069db",
   "metadata": {},
   "outputs": [],
   "source": [
    "# Heatmap for data sensitivity levels across sectors\n",
    "heatmap = ...\n",
    "heatmap"
   ]
  },
  {
   "cell_type": "markdown",
   "id": "c3e88eca-541e-4f10-9163-ca08f07a44fe",
   "metadata": {},
   "source": [
    "## Part 5: Dashboard\n",
    "Bringing it all together "
   ]
  },
  {
   "cell_type": "markdown",
   "id": "000ef1a2-09d9-4d17-a129-d2703069480e",
   "metadata": {},
   "source": [
    "#### **Instructions**:\n",
    "1. Use **Horizontal Concatenation** (`|`) and **Vertical Concatenation** (`&`) to organize the visualizations into a clear layout.\n",
    "2. For example:\n",
    "   ```python\n",
    "   # Arrange the charts into a dashboard layout\n",
    "   (stacked_bar_chart & normalized_bar_chart) | (line_chart & pie_chart) & heatmap\n",
    "   ```\n",
    "\n",
    "3. **Objective**: Create a comprehensive dashboard that provides a holistic view of data breach trends and characteristics across different dimensions.\n"
   ]
  },
  {
   "cell_type": "code",
   "execution_count": null,
   "id": "53541440-ce7a-46b2-90b7-1adb1ff6c05f",
   "metadata": {},
   "outputs": [],
   "source": [
    "..."
   ]
  },
  {
   "cell_type": "code",
   "execution_count": null,
   "id": "19516388-9a8b-4820-8733-858c53bba59c",
   "metadata": {},
   "outputs": [],
   "source": [
    "### Customizing the Dashboard"
   ]
  },
  {
   "cell_type": "code",
   "execution_count": null,
   "id": "f6aa5a70-d285-4ee4-9bf6-58fdf1cc6dc3",
   "metadata": {},
   "outputs": [],
   "source": [
    "# Resize individual charts\n",
    "stacked_bar_chart = stacked_bar_chart.properties(width=270, height=250)\n",
    "normalized_bar_chart = normalized_bar_chart.properties(width=270, height=250)\n",
    "line_chart = line_chart.properties(width=300, height=200)\n",
    "pie_chart = pie_chart.properties(width=200, height=200)\n",
    "heatmap = heatmap.properties(width=270, height=250)\n",
    "\n",
    "# Dashboard heading\n",
    "dashboard_heading = alt.Chart().mark_text(\n",
    "    align='center',\n",
    "    fontSize=20,\n",
    "    fontWeight='bold'\n",
    ").encode(\n",
    "    text=alt.value(\"Data Breach Dashboard\")\n",
    ").properties(width=900, height=30)\n",
    "\n",
    "# Concatenate heading and dashboard with bounding box\n",
    "dashboard_with_heading = alt.vconcat(\n",
    "    dashboard_heading,\n",
    "    (stacked_bar_chart | normalized_bar_chart | heatmap) & (line_chart | pie_chart | first)\n",
    ").configure_view(\n",
    "    stroke='black',\n",
    "    strokeWidth=2,\n",
    "    cornerRadius=5\n",
    ")\n",
    "\n",
    "dashboard_with_heading\n",
    "\n"
   ]
  },
  {
   "cell_type": "markdown",
   "id": "9e2a5d6c-d948-4ae2-9fb1-0d9e71b66c71",
   "metadata": {},
   "source": [
    "congratulations oooo\n",
    "\n",
    "tomorrow we will look into how to make these visualizations interactive. \n",
    "\n",
    "\n",
    "\n",
    "Dr. K"
   ]
  }
 ],
 "metadata": {
  "kernelspec": {
   "display_name": "Python 3 (ipykernel)",
   "language": "python",
   "name": "python3"
  },
  "language_info": {
   "codemirror_mode": {
    "name": "ipython",
    "version": 3
   },
   "file_extension": ".py",
   "mimetype": "text/x-python",
   "name": "python",
   "nbconvert_exporter": "python",
   "pygments_lexer": "ipython3",
   "version": "3.10.9"
  }
 },
 "nbformat": 4,
 "nbformat_minor": 5
}
